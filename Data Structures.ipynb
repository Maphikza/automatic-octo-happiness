{
 "cells": [
  {
   "cell_type": "markdown",
   "id": "5f03fc13-5751-418d-9931-5cf698478efe",
   "metadata": {},
   "source": [
    "# Linked List"
   ]
  },
  {
   "cell_type": "code",
   "execution_count": 51,
   "id": "0a64a0af-2be0-44cb-a195-dabee8fae89c",
   "metadata": {},
   "outputs": [],
   "source": [
    "class Node:\n",
    "    \"\"\"\n",
    "    An object for storing a single node of a linked list.\n",
    "    It models two attributes - data and the link to the next nore in the list.\n",
    "    \"\"\"\n",
    "    data = None\n",
    "    next_node = None\n",
    "    \n",
    "    def __init__(self, data):\n",
    "        self.data = data\n",
    "    \n",
    "    def __repr__(self):\n",
    "        return f\"<Node data: {self.data}>\" #This repr will assist with identifying the node after it has been created instead of just pointing to its location in memory.\n",
    "    \n",
    "class LinkedList: # Implementing a linked list head.\n",
    "    \"\"\"\n",
    "    Singly linked list\n",
    "    \"\"\"\n",
    "    \n",
    "    def __init__(self):\n",
    "        self.head = None\n",
    "        \n",
    "    def is_empty(self):\n",
    "        return self.head == None\n",
    "    \n",
    "    def size(self):\n",
    "        \"\"\"\n",
    "        Returns the number of nodes in the linked list.\n",
    "        Takes O(n) time - linear time.\n",
    "        \"\"\"\n",
    "        current = self.head\n",
    "        count = 0\n",
    "        \n",
    "        while current:\n",
    "            count += 1\n",
    "            current = current.next_node\n",
    "            \n",
    "        return count\n",
    "    \n",
    "    def add(self, data):\n",
    "        \"\"\"\n",
    "        Adds a new Node containing data at the head of the list.\n",
    "        Takes O(1) time - Constant time.\n",
    "        \"\"\"\n",
    "        new_node = Node(data)\n",
    "        new_node.next_node = self.head\n",
    "        self.head = new_node\n",
    "        \n",
    "    def __repr__(self):\n",
    "        \"\"\"\n",
    "        Return a string representation of the list\n",
    "        Takes O(n) time\n",
    "        \"\"\"\n",
    "        nodes = []\n",
    "        current = self.head\n",
    "        \n",
    "        while current:\n",
    "            if current is self.head:\n",
    "                nodes.append(f\"[Head: {current.data}]\")\n",
    "            elif current.next_node is None:\n",
    "                nodes.append(f\"[Tail: {current.data}]\")\n",
    "            else:\n",
    "                nodes.append(f\"[{current.data}]\")\n",
    "            \n",
    "            current = current.next_node\n",
    "        return \"\".join(nodes)\n",
    "        "
   ]
  },
  {
   "cell_type": "code",
   "execution_count": 127,
   "id": "f38501e4-67ff-4c8d-959f-dc5a506eb2c5",
   "metadata": {},
   "outputs": [],
   "source": [
    "ll = LinkedList()\n",
    "ll.add(1)\n",
    "ll.add(2)\n",
    "ll.add(3)\n",
    "ll.add(5)\n",
    "ll.add(6)"
   ]
  },
  {
   "cell_type": "code",
   "execution_count": 128,
   "id": "3f88c650-2625-4cf3-ae91-3dec9718c1e1",
   "metadata": {},
   "outputs": [
    {
     "data": {
      "text/plain": [
       "<Node data: 3>"
      ]
     },
     "execution_count": 128,
     "metadata": {},
     "output_type": "execute_result"
    }
   ],
   "source": [
    "ll.head.next_node.next_node"
   ]
  },
  {
   "cell_type": "markdown",
   "id": "a485bce0-81cc-4a99-9731-5e3ca8af1e11",
   "metadata": {},
   "source": [
    "### The below function gave me such a hard time in a recent coding challenge. I have figured out where I went wrong."
   ]
  },
  {
   "cell_type": "code",
   "execution_count": 129,
   "id": "4af2f706-fcf5-4c2a-abc9-41da48ea06ca",
   "metadata": {},
   "outputs": [],
   "source": [
    "def remove(llist, data):\n",
    "    current = llist\n",
    "    for i in range(10):\n",
    "        if current.head.data > data:\n",
    "            current.head = current.head.next_node\n",
    "        elif current.head.next_node.data > data:\n",
    "            current.head.next_node = current.head.next_node.next_node\n",
    "    return current\n",
    "                  "
   ]
  },
  {
   "cell_type": "code",
   "execution_count": 130,
   "id": "dcf02e50-74fa-4dc1-9a40-498079de9ce8",
   "metadata": {},
   "outputs": [],
   "source": [
    "ll2 = remove(ll, 5)"
   ]
  },
  {
   "cell_type": "code",
   "execution_count": 131,
   "id": "0ab2eaad-e170-4c4f-ba9c-43f1ba2f9c91",
   "metadata": {},
   "outputs": [
    {
     "data": {
      "text/plain": [
       "[Head: 5][3][2][Tail: 1]"
      ]
     },
     "execution_count": 131,
     "metadata": {},
     "output_type": "execute_result"
    }
   ],
   "source": [
    "ll2"
   ]
  },
  {
   "cell_type": "code",
   "execution_count": null,
   "id": "80aebe5d-c39a-4010-ba94-f713d2bf5bae",
   "metadata": {},
   "outputs": [],
   "source": []
  },
  {
   "cell_type": "code",
   "execution_count": null,
   "id": "f91d736c-97bf-4bd1-80f1-c54a718cefe7",
   "metadata": {},
   "outputs": [],
   "source": []
  }
 ],
 "metadata": {
  "kernelspec": {
   "display_name": "Python 3 (ipykernel)",
   "language": "python",
   "name": "python3"
  },
  "language_info": {
   "codemirror_mode": {
    "name": "ipython",
    "version": 3
   },
   "file_extension": ".py",
   "mimetype": "text/x-python",
   "name": "python",
   "nbconvert_exporter": "python",
   "pygments_lexer": "ipython3",
   "version": "3.10.1"
  }
 },
 "nbformat": 4,
 "nbformat_minor": 5
}
