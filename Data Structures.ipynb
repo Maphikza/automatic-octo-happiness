{
 "cells": [
  {
   "cell_type": "markdown",
   "id": "5f03fc13-5751-418d-9931-5cf698478efe",
   "metadata": {},
   "source": [
    "# Linked List"
   ]
  },
  {
   "cell_type": "code",
   "execution_count": 566,
   "id": "0a64a0af-2be0-44cb-a195-dabee8fae89c",
   "metadata": {},
   "outputs": [],
   "source": [
    "class Node:\n",
    "    \"\"\"\n",
    "    An object for storing a single node of a linked list.\n",
    "    It models two attributes - data and the link to the next nore in the list.\n",
    "    \"\"\"\n",
    "    data = None\n",
    "    next_node = None\n",
    "    \n",
    "    def __init__(self, data):\n",
    "        self.data = data\n",
    "    \n",
    "    def __repr__(self):\n",
    "        return f\"<Node data: {self.data}>\" #This repr will assist with identifying the node after it has been created instead of just pointing to its location in memory.\n",
    "    \n",
    "class LinkedList: # Implementing a linked list head.\n",
    "    \"\"\"\n",
    "    Singly linked list\n",
    "    \"\"\"\n",
    "    \n",
    "    def __init__(self):\n",
    "        self.head = None\n",
    "        \n",
    "    def is_empty(self):\n",
    "        return self.head == None\n",
    "    \n",
    "    def size(self):\n",
    "        \"\"\"\n",
    "        Returns the number of nodes in the linked list.\n",
    "        Takes O(n) time - linear time.\n",
    "        \"\"\"\n",
    "        current = self.head\n",
    "        count = 0\n",
    "        \n",
    "        while current:\n",
    "            count += 1\n",
    "            current = current.next_node\n",
    "            \n",
    "        return count\n",
    "    \n",
    "    def add(self, data):\n",
    "        \"\"\"\n",
    "        Adds a new Node containing data at the head of the list.\n",
    "        Takes O(1) time - Constant time.\n",
    "        \"\"\"\n",
    "        new_node = Node(data)\n",
    "        new_node.next_node = self.head\n",
    "        self.head = new_node\n",
    "        \n",
    "    def search(self, key):\n",
    "        \"\"\"\n",
    "        Search for the first node containing data that matches the key.\n",
    "        Return the node of 'None' if not found.\n",
    "        Takes O(n) -  Linear time.\n",
    "        \"\"\"\n",
    "        current = self.head\n",
    "        while current:\n",
    "            if current.data == key:\n",
    "                return current\n",
    "            else:\n",
    "                current = current.next_node\n",
    "        return None\n",
    "    \n",
    "    def insert(self, data, index):\n",
    "        \"\"\"\n",
    "        Inserts a new Node containing data at index position.\n",
    "        Insertion takes O(1) - constant time but finding the node at the insertion point takes O(n) - Linear time.\n",
    "        \n",
    "        Overall insert takes O(n) time.\n",
    "        \"\"\"\n",
    "        if index == 0:\n",
    "            self.add(data)\n",
    "        \n",
    "        if index > 0:\n",
    "            new = Node(data)\n",
    "            \n",
    "            position = index\n",
    "            current = self.head\n",
    "            \n",
    "            while position > 1:\n",
    "                current = current.next_node\n",
    "                position -= 1\n",
    "                \n",
    "            prev_node = current\n",
    "            next_node = current.next_node\n",
    "            \n",
    "            prev_node.next_node = new\n",
    "            new.next_node = next_node\n",
    "            \n",
    "    def remove(self, key):\n",
    "        \"\"\"\n",
    "        Removes Node containing data that matches the key.\n",
    "        Returns the node or None if the key doesn't exist.\n",
    "        Takes O(n) time - Linear time.\n",
    "        \"\"\"\n",
    "        current = self.head\n",
    "        previous = None\n",
    "        found = False\n",
    "        while current and not found:\n",
    "            if current.data == key and current is self.head:\n",
    "                found = True\n",
    "                self.head = current.next_node\n",
    "            elif current.data == key:\n",
    "                found = True\n",
    "                previous.next_node = current.next_node\n",
    "            else:\n",
    "                previous = current\n",
    "                current = current.next_node\n",
    "        return current\n",
    "        \n",
    "        \n",
    "    def __repr__(self):\n",
    "        \"\"\"\n",
    "        Return a string representation of the list\n",
    "        Takes O(n) time\n",
    "        \"\"\"\n",
    "        nodes = []\n",
    "        current = self.head\n",
    "        \n",
    "        while current:\n",
    "            if current is self.head:\n",
    "                nodes.append(f\"[Head: {current.data}]\")\n",
    "            elif current.next_node is None:\n",
    "                nodes.append(f\"[Tail: {current.data}]\")\n",
    "            else:\n",
    "                nodes.append(f\"[{current.data}]\")\n",
    "            \n",
    "            current = current.next_node\n",
    "        return \"-> \".join(nodes)\n",
    "    \n"
   ]
  },
  {
   "cell_type": "code",
   "execution_count": 567,
   "id": "f38501e4-67ff-4c8d-959f-dc5a506eb2c5",
   "metadata": {},
   "outputs": [],
   "source": [
    "ll = LinkedList()\n",
    "ll.add(1)\n",
    "ll.add(2)\n",
    "ll.add(3)\n",
    "ll.add(5)\n",
    "ll.add(6)"
   ]
  },
  {
   "cell_type": "code",
   "execution_count": 568,
   "id": "3f88c650-2625-4cf3-ae91-3dec9718c1e1",
   "metadata": {},
   "outputs": [
    {
     "name": "stdout",
     "output_type": "stream",
     "text": [
      "<Node data: 5>\n"
     ]
    }
   ],
   "source": [
    "print(ll.search(5))"
   ]
  },
  {
   "cell_type": "code",
   "execution_count": 569,
   "id": "a65e6184-671d-47d8-8530-a0dae6867ae9",
   "metadata": {},
   "outputs": [
    {
     "data": {
      "text/plain": [
       "[Head: 6]-> [5]-> [3]-> [2]-> [Tail: 1]"
      ]
     },
     "execution_count": 569,
     "metadata": {},
     "output_type": "execute_result"
    }
   ],
   "source": [
    "ll"
   ]
  },
  {
   "cell_type": "code",
   "execution_count": 580,
   "id": "6a992817-b42a-4d43-b4b9-aa543b01a6ff",
   "metadata": {},
   "outputs": [],
   "source": [
    "n = ll.insert(4, 2)"
   ]
  },
  {
   "cell_type": "code",
   "execution_count": 581,
   "id": "a07e35f4-5251-4abc-895e-a0f3ab57b242",
   "metadata": {},
   "outputs": [
    {
     "data": {
      "text/plain": [
       "[Head: 6]-> [5]-> [4]-> [3]-> [4]-> [2]-> [Tail: 1]"
      ]
     },
     "execution_count": 581,
     "metadata": {},
     "output_type": "execute_result"
    }
   ],
   "source": [
    "ll"
   ]
  },
  {
   "cell_type": "code",
   "execution_count": 584,
   "id": "d2361de8-6edb-4010-b4e2-00b120d4b6ac",
   "metadata": {},
   "outputs": [
    {
     "data": {
      "text/plain": [
       "<Node data: 4>"
      ]
     },
     "execution_count": 584,
     "metadata": {},
     "output_type": "execute_result"
    }
   ],
   "source": [
    "ll.remove(4)"
   ]
  },
  {
   "cell_type": "code",
   "execution_count": 585,
   "id": "221af32b-3a22-478a-9cad-d3c2c4b0859e",
   "metadata": {},
   "outputs": [
    {
     "data": {
      "text/plain": [
       "[Head: 6]-> [5]-> [3]-> [2]-> [Tail: 1]"
      ]
     },
     "execution_count": 585,
     "metadata": {},
     "output_type": "execute_result"
    }
   ],
   "source": [
    "ll"
   ]
  },
  {
   "cell_type": "markdown",
   "id": "a485bce0-81cc-4a99-9731-5e3ca8af1e11",
   "metadata": {},
   "source": [
    "### The below function gave me such a hard time in a recent coding challenge. I have figured out where I went wrong."
   ]
  },
  {
   "cell_type": "code",
   "execution_count": null,
   "id": "4af2f706-fcf5-4c2a-abc9-41da48ea06ca",
   "metadata": {},
   "outputs": [],
   "source": [
    "def remove(llist, data):\n",
    "    current = llist\n",
    "    for i in range(10):\n",
    "        if current.head.data > data:\n",
    "            current.head = current.head.next_node\n",
    "        elif current.head.next_node.data > data:\n",
    "            current.head.next_node = current.head.next_node.next_node\n",
    "    return current\n",
    "                  "
   ]
  },
  {
   "cell_type": "markdown",
   "id": "a8774ca6-c97e-4d35-b698-2795d8c7b74c",
   "metadata": {},
   "source": [
    "### This is my initial implementation of insert."
   ]
  },
  {
   "cell_type": "code",
   "execution_count": null,
   "id": "5c8aa25f-03bf-43d1-a05f-0ba11de115aa",
   "metadata": {},
   "outputs": [],
   "source": [
    "def insert(self, data, position):\n",
    "        count = 0\n",
    "        new_node = Node(data)\n",
    "        current = self.head\n",
    "        while count < position+1:\n",
    "            count +=1\n",
    "            if current == self.head and position == 0:\n",
    "                self.add(data)\n",
    "            elif position == count-1:\n",
    "                previous = current.next_node # Storing current next on previous.\n",
    "                current.next_node = new_node # changing current next to new node.\n",
    "                current.next_node.next_node = previous # Updating next.next to allow the link to continue.\n",
    "                current = previous # changing current to be the old value of next before the positional insert.\n",
    "            else:\n",
    "                current = current.next_node\n",
    "        return current"
   ]
  },
  {
   "cell_type": "code",
   "execution_count": null,
   "id": "dcf02e50-74fa-4dc1-9a40-498079de9ce8",
   "metadata": {},
   "outputs": [],
   "source": [
    "ll2 = remove(ll, 5)"
   ]
  },
  {
   "cell_type": "code",
   "execution_count": null,
   "id": "0ab2eaad-e170-4c4f-ba9c-43f1ba2f9c91",
   "metadata": {},
   "outputs": [],
   "source": [
    "ll2"
   ]
  },
  {
   "cell_type": "code",
   "execution_count": null,
   "id": "80aebe5d-c39a-4010-ba94-f713d2bf5bae",
   "metadata": {},
   "outputs": [],
   "source": []
  },
  {
   "cell_type": "code",
   "execution_count": null,
   "id": "f91d736c-97bf-4bd1-80f1-c54a718cefe7",
   "metadata": {},
   "outputs": [],
   "source": []
  }
 ],
 "metadata": {
  "kernelspec": {
   "display_name": "Python 3 (ipykernel)",
   "language": "python",
   "name": "python3"
  },
  "language_info": {
   "codemirror_mode": {
    "name": "ipython",
    "version": 3
   },
   "file_extension": ".py",
   "mimetype": "text/x-python",
   "name": "python",
   "nbconvert_exporter": "python",
   "pygments_lexer": "ipython3",
   "version": "3.10.1"
  }
 },
 "nbformat": 4,
 "nbformat_minor": 5
}
