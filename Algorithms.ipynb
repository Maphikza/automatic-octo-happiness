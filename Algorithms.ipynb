{
 "cells": [
  {
   "cell_type": "code",
   "execution_count": 216,
   "id": "81ff4f08-49c9-4554-97eb-dd201c05b486",
   "metadata": {},
   "outputs": [],
   "source": [
    "import timeit"
   ]
  },
  {
   "cell_type": "code",
   "execution_count": 229,
   "id": "fb8f0fc0-25df-4a39-befb-b7e9713938de",
   "metadata": {},
   "outputs": [],
   "source": [
    "def linear_search(my_list, target):\n",
    "    \"\"\"\n",
    "    Returns the index position of the target if found, else returns None\n",
    "    \"\"\"\n",
    "    for i in range(0, len(my_list)):\n",
    "        if target == my_list[i]:\n",
    "            return i\n",
    "    return None"
   ]
  },
  {
   "cell_type": "code",
   "execution_count": 230,
   "id": "d794dc3f-30c8-4271-b6f8-31b81223f0e6",
   "metadata": {},
   "outputs": [],
   "source": [
    "def binary_search(my_list, target=0):\n",
    "    \"\"\"\n",
    "    Returns True if target found, else returns False\n",
    "    \"\"\"\n",
    "    sorted_list = sorted(my_list)\n",
    "    for i in range(0, len(my_list)):\n",
    "        middle = len(sorted_list)//2\n",
    "        if len(sorted_list) <= 1 and target != sorted_list[middle]:\n",
    "            return False\n",
    "        elif target == sorted_list[middle]:\n",
    "            return True\n",
    "        elif target < sorted_list[middle]:\n",
    "            sorted_list = sorted_list[:middle]\n",
    "        elif target > sorted_list[middle]:\n",
    "            sorted_list = sorted_list[middle:]\n",
    "    return False\n",
    "        "
   ]
  },
  {
   "cell_type": "code",
   "execution_count": 231,
   "id": "a030803a-02ff-406c-ba42-d70a264aaee3",
   "metadata": {},
   "outputs": [],
   "source": [
    "num_list = [1, 5, 8, 4, 6, 2, 9, 10, 3, 25, 45]\n",
    "target_num = 1"
   ]
  },
  {
   "cell_type": "code",
   "execution_count": 232,
   "id": "402f8d82-b71f-4f3c-840f-bc59b6cec7bc",
   "metadata": {},
   "outputs": [
    {
     "name": "stdout",
     "output_type": "stream",
     "text": [
      "426 ns ± 13.8 ns per loop (mean ± std. dev. of 7 runs, 1,000,000 loops each)\n"
     ]
    }
   ],
   "source": [
    "%timeit linear_search(num_list, target_num)"
   ]
  },
  {
   "cell_type": "code",
   "execution_count": 233,
   "id": "b64a271b-581f-49cc-83cb-eb663319c153",
   "metadata": {},
   "outputs": [
    {
     "name": "stdout",
     "output_type": "stream",
     "text": [
      "1.96 µs ± 43 ns per loop (mean ± std. dev. of 7 runs, 100,000 loops each)\n"
     ]
    }
   ],
   "source": [
    "%timeit binary_search(num_list, target_num)"
   ]
  },
  {
   "cell_type": "code",
   "execution_count": 234,
   "id": "faee9b67-0c15-4453-9081-7a19196d9eee",
   "metadata": {},
   "outputs": [],
   "source": [
    "def binary_search_two(my_list, target=0):\n",
    "    \"\"\"\n",
    "    Returns index of target if target found, else returns None.\n",
    "    \"\"\"\n",
    "    sorted_list = sorted(my_list)\n",
    "    first = 0\n",
    "    last = len(my_list)\n",
    "    step = 0\n",
    "    for i in range(0, len(my_list)):\n",
    "        step += 1\n",
    "        middle = (first + last)//2\n",
    "        if sorted_list[middle] == target:\n",
    "            return middle\n",
    "        elif sorted_list[middle] < target:\n",
    "            first = middle + 1\n",
    "        else:\n",
    "            last = middle - 1\n",
    "    return None\n",
    "\n",
    "def check(index):\n",
    "    if index is not None:\n",
    "        print(f\"Target was found at index {index}\")\n",
    "    else:\n",
    "        print(\"Target not found\")"
   ]
  },
  {
   "cell_type": "code",
   "execution_count": 236,
   "id": "4307b81d-0b4f-4efa-a78e-de041c477fc8",
   "metadata": {},
   "outputs": [
    {
     "name": "stdout",
     "output_type": "stream",
     "text": [
      "1.33 µs ± 14.9 ns per loop (mean ± std. dev. of 7 runs, 1,000,000 loops each)\n",
      "Target was found at index 7\n"
     ]
    }
   ],
   "source": [
    "%timeit result = binary_search_two(num_list, target_num)\n",
    "check(result)"
   ]
  },
  {
   "cell_type": "code",
   "execution_count": null,
   "id": "87ce33bd-32bb-4be5-8b62-9c210cf4f532",
   "metadata": {},
   "outputs": [],
   "source": []
  }
 ],
 "metadata": {
  "kernelspec": {
   "display_name": "Python 3 (ipykernel)",
   "language": "python",
   "name": "python3"
  },
  "language_info": {
   "codemirror_mode": {
    "name": "ipython",
    "version": 3
   },
   "file_extension": ".py",
   "mimetype": "text/x-python",
   "name": "python",
   "nbconvert_exporter": "python",
   "pygments_lexer": "ipython3",
   "version": "3.10.1"
  }
 },
 "nbformat": 4,
 "nbformat_minor": 5
}
