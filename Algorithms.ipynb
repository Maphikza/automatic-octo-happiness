{
 "cells": [
  {
   "cell_type": "code",
   "execution_count": 159,
   "id": "fb8f0fc0-25df-4a39-befb-b7e9713938de",
   "metadata": {},
   "outputs": [],
   "source": [
    "def linear_search(my_list, target):\n",
    "    \"\"\"\n",
    "    Returns the index position of the target if found, else returns None\n",
    "    \"\"\"\n",
    "    step = 0\n",
    "    for i in range(0, len(my_list)):\n",
    "        step += 1\n",
    "        exit_info = f\"It took linear-search {step} steps to find the answer\"\n",
    "        if target == my_list[i]:\n",
    "            print(exit_info)\n",
    "            return True\n",
    "    print(exit_info)\n",
    "    return False"
   ]
  },
  {
   "cell_type": "code",
   "execution_count": 160,
   "id": "d794dc3f-30c8-4271-b6f8-31b81223f0e6",
   "metadata": {},
   "outputs": [],
   "source": [
    "def binary_search(my_list, target=0):\n",
    "    \"\"\"\n",
    "    Returns the index position of the target if found, else returns None\n",
    "    \"\"\"\n",
    "    sorted_list = sorted(my_list)\n",
    "    step = 0\n",
    "    for i in range(0, len(my_list)):\n",
    "        step += 1\n",
    "        exit_info = f\"It took binary-search {step} steps to find the answer\"\n",
    "        middle = len(sorted_list)//2\n",
    "        if len(sorted_list) <= 1 and target != sorted_list[middle]:\n",
    "            print(exit_info)\n",
    "            return False\n",
    "        elif target == sorted_list[middle]:\n",
    "            print(exit_info)\n",
    "            return True\n",
    "        elif target < sorted_list[middle]:\n",
    "            sorted_list = sorted_list[:middle]\n",
    "            print(sorted_list)\n",
    "        elif target > sorted_list[middle]:\n",
    "            sorted_list = sorted_list[middle:]\n",
    "    print(exit_info)\n",
    "    return False\n",
    "        "
   ]
  },
  {
   "cell_type": "code",
   "execution_count": 161,
   "id": "a030803a-02ff-406c-ba42-d70a264aaee3",
   "metadata": {},
   "outputs": [],
   "source": [
    "num_list = [1, 5, 8, 4, 6, 2, 9, 10, 3, 25, 45]\n",
    "target_num = 25"
   ]
  },
  {
   "cell_type": "code",
   "execution_count": 162,
   "id": "402f8d82-b71f-4f3c-840f-bc59b6cec7bc",
   "metadata": {},
   "outputs": [
    {
     "name": "stdout",
     "output_type": "stream",
     "text": [
      "It took linear-search 10 steps to find the answer\n"
     ]
    },
    {
     "data": {
      "text/plain": [
       "True"
      ]
     },
     "execution_count": 162,
     "metadata": {},
     "output_type": "execute_result"
    }
   ],
   "source": [
    "linear_search(num_list, target_num)"
   ]
  },
  {
   "cell_type": "code",
   "execution_count": 163,
   "id": "b64a271b-581f-49cc-83cb-eb663319c153",
   "metadata": {},
   "outputs": [
    {
     "name": "stdout",
     "output_type": "stream",
     "text": [
      "It took binary-search 3 steps to find the answer\n"
     ]
    },
    {
     "data": {
      "text/plain": [
       "True"
      ]
     },
     "execution_count": 163,
     "metadata": {},
     "output_type": "execute_result"
    }
   ],
   "source": [
    "binary_search(num_list, target_num)"
   ]
  }
 ],
 "metadata": {
  "kernelspec": {
   "display_name": "Python 3 (ipykernel)",
   "language": "python",
   "name": "python3"
  },
  "language_info": {
   "codemirror_mode": {
    "name": "ipython",
    "version": 3
   },
   "file_extension": ".py",
   "mimetype": "text/x-python",
   "name": "python",
   "nbconvert_exporter": "python",
   "pygments_lexer": "ipython3",
   "version": "3.10.1"
  }
 },
 "nbformat": 4,
 "nbformat_minor": 5
}
