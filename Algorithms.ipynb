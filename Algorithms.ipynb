{
 "cells": [
  {
   "cell_type": "code",
   "execution_count": 1,
   "id": "81ff4f08-49c9-4554-97eb-dd201c05b486",
   "metadata": {},
   "outputs": [],
   "source": [
    "import timeit"
   ]
  },
  {
   "cell_type": "code",
   "execution_count": 2,
   "id": "fb8f0fc0-25df-4a39-befb-b7e9713938de",
   "metadata": {},
   "outputs": [],
   "source": [
    "def linear_search(my_list, target):\n",
    "    \"\"\"\n",
    "    Returns the index position of the target if found, else returns None\n",
    "    \"\"\"\n",
    "    for i in range(0, len(my_list)):\n",
    "        if target == my_list[i]:\n",
    "            return i\n",
    "    return None"
   ]
  },
  {
   "cell_type": "code",
   "execution_count": 3,
   "id": "d794dc3f-30c8-4271-b6f8-31b81223f0e6",
   "metadata": {},
   "outputs": [],
   "source": [
    "def binary_search(my_list, target=0):\n",
    "    \"\"\"\n",
    "    Returns True if target found, else returns False\n",
    "    \"\"\"\n",
    "    sorted_list = sorted(my_list)\n",
    "    for i in range(0, len(my_list)):\n",
    "        middle = len(sorted_list)//2\n",
    "        if len(sorted_list) <= 1 and target != sorted_list[middle]:\n",
    "            return False\n",
    "        elif target == sorted_list[middle]:\n",
    "            return True\n",
    "        elif target < sorted_list[middle]:\n",
    "            sorted_list = sorted_list[:middle]\n",
    "        elif target > sorted_list[middle]:\n",
    "            sorted_list = sorted_list[middle:]\n",
    "    return False\n",
    "        "
   ]
  },
  {
   "cell_type": "code",
   "execution_count": 4,
   "id": "a030803a-02ff-406c-ba42-d70a264aaee3",
   "metadata": {},
   "outputs": [],
   "source": [
    "num_list = [1, 5, 8, 4, 6, 2, 9, 10, 3, 25, 45]\n",
    "target_num = 45"
   ]
  },
  {
   "cell_type": "code",
   "execution_count": 5,
   "id": "402f8d82-b71f-4f3c-840f-bc59b6cec7bc",
   "metadata": {},
   "outputs": [
    {
     "name": "stdout",
     "output_type": "stream",
     "text": [
      "931 ns ± 26.9 ns per loop (mean ± std. dev. of 7 runs, 1,000,000 loops each)\n"
     ]
    }
   ],
   "source": [
    "%timeit linear_search(num_list, target_num)"
   ]
  },
  {
   "cell_type": "code",
   "execution_count": 6,
   "id": "b64a271b-581f-49cc-83cb-eb663319c153",
   "metadata": {},
   "outputs": [
    {
     "name": "stdout",
     "output_type": "stream",
     "text": [
      "2.08 µs ± 64.2 ns per loop (mean ± std. dev. of 7 runs, 100,000 loops each)\n"
     ]
    }
   ],
   "source": [
    "%timeit binary_search(num_list, target_num)"
   ]
  },
  {
   "cell_type": "code",
   "execution_count": 7,
   "id": "faee9b67-0c15-4453-9081-7a19196d9eee",
   "metadata": {},
   "outputs": [],
   "source": [
    "def binary_search_two(my_list, target=0):\n",
    "    \"\"\"\n",
    "    Returns index of target if target found, else returns None.\n",
    "    \"\"\"\n",
    "    sorted_list = sorted(my_list)\n",
    "    first = 0\n",
    "    last = len(my_list) - 1\n",
    "    step = 0\n",
    "    while first <= last:\n",
    "        middle = (first + last)//2\n",
    "        if sorted_list[middle] == target:\n",
    "            return middle\n",
    "        elif sorted_list[middle] < target:\n",
    "            first = middle + 1\n",
    "        else:\n",
    "            last = middle - 1\n",
    "    return None\n",
    "\n",
    "def check(index):\n",
    "    if index is not None:\n",
    "        print(f\"Target was found at index {index}\")\n",
    "    else:\n",
    "        print(\"Target not found\")"
   ]
  },
  {
   "cell_type": "code",
   "execution_count": 8,
   "id": "4307b81d-0b4f-4efa-a78e-de041c477fc8",
   "metadata": {},
   "outputs": [],
   "source": [
    "result = binary_search_two(num_list, target_num)"
   ]
  },
  {
   "cell_type": "code",
   "execution_count": 9,
   "id": "a3910f5f-a324-407e-80f1-d2903d9caaac",
   "metadata": {},
   "outputs": [
    {
     "name": "stdout",
     "output_type": "stream",
     "text": [
      "Target was found at index 10\n"
     ]
    }
   ],
   "source": [
    "check(result)"
   ]
  },
  {
   "cell_type": "code",
   "execution_count": 10,
   "id": "87ce33bd-32bb-4be5-8b62-9c210cf4f532",
   "metadata": {},
   "outputs": [],
   "source": [
    "def recursive_binary_search(my_list, target):\n",
    "    if len(my_list) == 0:\n",
    "        return False\n",
    "    else:\n",
    "        middle = (len(my_list))//2\n",
    "        my_list = sorted(my_list)\n",
    "        if target == my_list[middle]:\n",
    "            return True\n",
    "        elif len(my_list) == 1 and target != my_list[middle]:\n",
    "            return False\n",
    "        elif target < my_list[middle]:\n",
    "            return recursive_binary_search(my_list[:middle], target)\n",
    "        elif target > my_list[middle]:\n",
    "            return recursive_binary_search(my_list[middle:], target)"
   ]
  },
  {
   "cell_type": "code",
   "execution_count": 11,
   "id": "1107fedd-a21c-490d-b3af-6b17c72d7444",
   "metadata": {},
   "outputs": [
    {
     "name": "stdout",
     "output_type": "stream",
     "text": [
      "2.73 µs ± 44 ns per loop (mean ± std. dev. of 7 runs, 100,000 loops each)\n"
     ]
    }
   ],
   "source": [
    "%timeit recursive_binary_search(num_list, target_num)"
   ]
  },
  {
   "cell_type": "code",
   "execution_count": 12,
   "id": "b5801396-2ce0-40e6-99d0-2028a36a68ee",
   "metadata": {},
   "outputs": [],
   "source": [
    "def recursive_binary_search_two(my_list, target):\n",
    "    if len(my_list) == 0:\n",
    "        return False\n",
    "    else:\n",
    "        middle = (len(my_list))//2\n",
    "        my_list = sorted(my_list)\n",
    "        if target == my_list[middle]:\n",
    "            return True\n",
    "        else:\n",
    "            if target < my_list[middle]:\n",
    "                return recursive_binary_search(my_list[:middle], target)\n",
    "            else:\n",
    "                return recursive_binary_search(my_list[middle+1:], target) # the magic is in the \"middle+1\", if middle = 0 and my_list[0+1:] would make it an empty list, Which will be return False."
   ]
  },
  {
   "cell_type": "code",
   "execution_count": 13,
   "id": "7d188134-934f-468e-a50e-998e713eccd6",
   "metadata": {},
   "outputs": [
    {
     "name": "stdout",
     "output_type": "stream",
     "text": [
      "2.62 µs ± 77.2 ns per loop (mean ± std. dev. of 7 runs, 100,000 loops each)\n"
     ]
    }
   ],
   "source": [
    "%timeit recursive_binary_search_two(num_list, target_num)"
   ]
  },
  {
   "cell_type": "code",
   "execution_count": 14,
   "id": "7e1c82ea-b79b-4493-9c36-112256963833",
   "metadata": {},
   "outputs": [
    {
     "data": {
      "text/plain": [
       "0"
      ]
     },
     "execution_count": 14,
     "metadata": {},
     "output_type": "execute_result"
    }
   ],
   "source": [
    "1//2"
   ]
  },
  {
   "cell_type": "code",
   "execution_count": 15,
   "id": "1b30cbc7-19a5-45c1-aa6c-927c42567dc9",
   "metadata": {},
   "outputs": [
    {
     "data": {
      "text/plain": [
       "1"
      ]
     },
     "execution_count": 15,
     "metadata": {},
     "output_type": "execute_result"
    }
   ],
   "source": [
    "num_list = [1]\n",
    "len(num_list)"
   ]
  },
  {
   "cell_type": "code",
   "execution_count": 16,
   "id": "9bf6b9a1-4127-4bd1-9aab-b1151c378e01",
   "metadata": {},
   "outputs": [
    {
     "data": {
      "text/plain": [
       "0"
      ]
     },
     "execution_count": 16,
     "metadata": {},
     "output_type": "execute_result"
    }
   ],
   "source": [
    "len(num_list[0+1:])"
   ]
  },
  {
   "cell_type": "code",
   "execution_count": 17,
   "id": "d95031d6-7a89-43cc-8e48-cd5ce66b1356",
   "metadata": {},
   "outputs": [],
   "source": [
    "num_list = [1, 5, 8, 4, 6, 2, 9, 10, 3, 25, 45]"
   ]
  },
  {
   "cell_type": "code",
   "execution_count": 19,
   "id": "cbc794dc-8fcf-47af-9f35-1800df067aa3",
   "metadata": {},
   "outputs": [
    {
     "name": "stdout",
     "output_type": "stream",
     "text": [
      "330 ns ± 3.58 ns per loop (mean ± std. dev. of 7 runs, 1,000,000 loops each)\n"
     ]
    }
   ],
   "source": [
    "%timeit sorted(num_list)"
   ]
  },
  {
   "cell_type": "code",
   "execution_count": null,
   "id": "3ab26eb1-9277-4e9c-af35-0f4c51427c78",
   "metadata": {},
   "outputs": [],
   "source": []
  }
 ],
 "metadata": {
  "kernelspec": {
   "display_name": "Python 3 (ipykernel)",
   "language": "python",
   "name": "python3"
  },
  "language_info": {
   "codemirror_mode": {
    "name": "ipython",
    "version": 3
   },
   "file_extension": ".py",
   "mimetype": "text/x-python",
   "name": "python",
   "nbconvert_exporter": "python",
   "pygments_lexer": "ipython3",
   "version": "3.10.1"
  }
 },
 "nbformat": 4,
 "nbformat_minor": 5
}
